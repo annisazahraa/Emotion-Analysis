{
  "nbformat": 4,
  "nbformat_minor": 0,
  "metadata": {
    "colab": {
      "name": "Emotion Analysis - Attention + GRU.ipynb",
      "provenance": [],
      "collapsed_sections": []
    },
    "kernelspec": {
      "display_name": "Python 3",
      "language": "python",
      "name": "python3"
    },
    "language_info": {
      "codemirror_mode": {
        "name": "ipython",
        "version": 3
      },
      "file_extension": ".py",
      "mimetype": "text/x-python",
      "name": "python",
      "nbconvert_exporter": "python",
      "pygments_lexer": "ipython3",
      "version": "3.6.5"
    }
  },
  "cells": [
    {
      "cell_type": "code",
      "metadata": {
        "id": "eiJIdlCVUGbK"
      },
      "source": [
        "pip install xlsxwriter"
      ],
      "execution_count": null,
      "outputs": []
    },
    {
      "cell_type": "code",
      "metadata": {
        "id": "riLGRKWhSgq6"
      },
      "source": [
        "import numpy as np\n",
        "import pandas as pd \n",
        "from keras import initializers\n",
        "from keras.preprocessing.text import Tokenizer\n",
        "from keras.preprocessing.sequence import pad_sequences\n",
        "from keras.models import Sequential\n",
        "from keras.layers import Dense, Embedding, Dropout, LSTM, Bidirectional\n",
        "from sklearn.model_selection import train_test_split\n",
        "from keras.utils.np_utils import to_categorical\n",
        "import matplotlib.pyplot as plt\n",
        "from sklearn.metrics import accuracy_score\n",
        "import seaborn as sns\n",
        "import xlsxwriter"
      ],
      "execution_count": null,
      "outputs": []
    },
    {
      "cell_type": "code",
      "metadata": {
        "colab": {
          "base_uri": "https://localhost:8080/",
          "height": 654
        },
        "id": "ksy0AD0Xhgh0",
        "outputId": "aff65b19-86d1-43a2-8342-0f8ffa1a5651"
      },
      "source": [
        "data = pd.read_excel(\"/content/labeled.xlsx\")\n",
        "data.replace('', np.nan, inplace=True)\n",
        "data.dropna(inplace=True)\n",
        "\n",
        "other = data.loc[data['emotion'] == 'other', 'after stopword'].copy().reset_index(drop=True)\n",
        "tender = data.loc[data['emotion'] == 'tender', 'after stopword'].copy().reset_index(drop=True)\n",
        "scared = data.loc[data['emotion'] == 'scared', 'after stopword'].copy().reset_index(drop=True)\n",
        "angry = data.loc[data['emotion'] == 'angry', 'after stopword'].copy().reset_index(drop=True)\n",
        "excited = data.loc[data['emotion'] == 'excited', 'after stopword'].copy().reset_index(drop=True)\n",
        "sad = data.loc[data['emotion'] == 'sad', 'after stopword'].copy().reset_index(drop=True)\n",
        "happy = data.loc[data['emotion'] == 'happy', 'after stopword'].copy().reset_index(drop=True)\n",
        "wonder = data.loc[data['emotion'] == 'wonder', 'after stopword'].copy().reset_index(drop=True)\n",
        "\n",
        "print(\"Total Data :\", len(data))\n",
        "print(\"other :\", len(other))\n",
        "print(\"tender :\", len(tender))\n",
        "print(\"scared :\", len(scared))\n",
        "print(\"angry :\", len(angry))\n",
        "print(\"excited :\", len(excited))\n",
        "print(\"sad :\", len(sad))\n",
        "print(\"happy :\", len(happy))\n",
        "print(\"wonder :\", len(wonder))\n",
        "\n",
        "plt.figure(figsize=(10,8))\n",
        "sns.countplot(x='emotion', data=data)\n",
        "plt.show()"
      ],
      "execution_count": null,
      "outputs": [
        {
          "output_type": "stream",
          "text": [
            "Total Data : 6990\n",
            "other : 4047\n",
            "tender : 1164\n",
            "scared : 137\n",
            "angry : 373\n",
            "excited : 146\n",
            "sad : 181\n",
            "happy : 457\n",
            "wonder : 485\n"
          ],
          "name": "stdout"
        },
        {
          "output_type": "display_data",
          "data": {
            "image/png": "[encoded data removed]",
            "text/plain": [
              "<Figure size 720x576 with 1 Axes>"
            ]
          },
          "metadata": {
            "tags": [],
            "needs_background": "light"
          }
        }
      ]
    },
    {
      "cell_type": "code",
      "metadata": {
        "collapsed": true,
        "id": "3AHl26f3Sgq-",
        "colab": {
          "base_uri": "https://localhost:8080/",
          "height": 466
        },
        "outputId": "2c5e836c-c1e2-4bac-93c6-9fadb23116a3"
      },
      "source": [
        "target_count_sent = data.emotion.value_counts()\n",
        "print('Class 0:', target_count_sent[\"other\"])\n",
        "print('Class 1:', target_count_sent[\"tender\"])\n",
        "print('Class 2:', target_count_sent[\"scared\"])\n",
        "print('Class 3:', target_count_sent[\"angry\"])\n",
        "print('Class 4:', target_count_sent[\"excited\"])\n",
        "print('Class 5:', target_count_sent[\"sad\"])\n",
        "print('Class 6:', target_count_sent[\"happy\"])\n",
        "print('Class 7:', target_count_sent[\"wonder\"])\n",
        "\n",
        "\n",
        "target_count_sent.plot(kind='bar', title='Count (target)');\n",
        "plt.figure(figsize=(10,8))\n",
        "plt.show()"
      ],
      "execution_count": null,
      "outputs": [
        {
          "output_type": "stream",
          "text": [
            "Class 0: 4047\n",
            "Class 1: 1164\n",
            "Class 2: 137\n",
            "Class 3: 373\n",
            "Class 4: 146\n",
            "Class 5: 181\n",
            "Class 6: 457\n",
            "Class 7: 485\n"
          ],
          "name": "stdout"
        },
        {
          "output_type": "display_data",
          "data": {
            "image/png": "[encoded data removed]",
            "text/plain": [
              "<Figure size 432x288 with 1 Axes>"
            ]
          },
          "metadata": {
            "tags": [],
            "needs_background": "light"
          }
        },
        {
          "output_type": "display_data",
          "data": {
            "text/plain": [
              "<Figure size 720x576 with 0 Axes>"
            ]
          },
          "metadata": {
            "tags": []
          }
        }
      ]
    },
    {
      "cell_type": "code",
      "metadata": {
        "colab": {
          "base_uri": "https://localhost:8080/"
        },
        "id": "PTkheMbGeJR9",
        "outputId": "2555e278-a31f-4ba2-ffd9-43d5145f96ae"
      },
      "source": [
        "data[\"emotion\"].value_counts()"
      ],
      "execution_count": null,
      "outputs": [
        {
          "output_type": "execute_result",
          "data": {
            "text/plain": [
              "other      4047\n",
              "tender     1164\n",
              "wonder      485\n",
              "happy       457\n",
              "angry       373\n",
              "sad         181\n",
              "excited     146\n",
              "scared      137\n",
              "Name: emotion, dtype: int64"
            ]
          },
          "metadata": {
            "tags": []
          },
          "execution_count": 5
        }
      ]
    },
    {
      "cell_type": "code",
      "metadata": {
        "id": "Fblgjx2wguXe"
      },
      "source": [
        "count_class_0_sent, count_class_1_sent, count_class_2_sent = data.label.value_counts()\n",
        "\n",
        "df_class_0_sent = data[data['emotion'] == \"other\"]\n",
        "df_class_1_sent = data[data['emotion'] == \"tender\"]\n",
        "df_class_2_sent = data[data['emotion'] == \"scared\"]\n",
        "df_class_3_sent = data[data['emotion'] == \"angry\"]\n",
        "df_class_4_sent = data[data['emotion'] == \"excited\"]\n",
        "df_class_5_sent = data[data['emotion'] == \"sad\"]\n",
        "df_class_6_sent = data[data['emotion'] == \"happy\"]\n",
        "df_class_7_sent = data[data['emotion'] == \"wonder\"]"
      ],
      "execution_count": null,
      "outputs": []
    },
    {
      "cell_type": "code",
      "metadata": {
        "colab": {
          "base_uri": "https://localhost:8080/",
          "height": 483
        },
        "id": "w_Y4y6ZJhESP",
        "outputId": "bd3aa536-43bd-4934-dd6e-ea2f7d905430"
      },
      "source": [
        "df_class_0_over_sent = df_class_0_sent.sample(3000, replace=True, random_state=1)\n",
        "df_class_1_over_sent = df_class_1_sent.sample(2000, replace=True, random_state=1)\n",
        "df_class_2_over_sent = df_class_2_sent.sample(1000, replace=True, random_state=1)\n",
        "df_class_3_over_sent = df_class_3_sent.sample(1500, replace=True, random_state=1)\n",
        "df_class_4_over_sent = df_class_4_sent.sample(1000, replace=True, random_state=1)\n",
        "df_class_5_over_sent = df_class_5_sent.sample(1000, replace=True, random_state=1)\n",
        "df_class_6_over_sent = df_class_6_sent.sample(1500, replace=True, random_state=1)\n",
        "df_class_7_over_sent = df_class_7_sent.sample(1500, replace=True, random_state=1)\n",
        "df_test_over_sent = pd.concat([df_class_0_over_sent, df_class_1_over_sent, df_class_2_over_sent, \n",
        "                               df_class_3_over_sent, df_class_4_over_sent, df_class_5_over_sent,\n",
        "                               df_class_6_over_sent, df_class_7_over_sent], axis=0)\n",
        "\n",
        "print('Random over-sampling:')\n",
        "print(df_test_over_sent.emotion.value_counts())\n",
        "\n",
        "df_test_over_sent.emotion.value_counts().plot(kind='bar', title='Count (target)');"
      ],
      "execution_count": null,
      "outputs": [
        {
          "output_type": "stream",
          "text": [
            "Random over-sampling:\n",
            "other      3000\n",
            "tender     2000\n",
            "wonder     1500\n",
            "happy      1500\n",
            "angry      1500\n",
            "excited    1000\n",
            "sad        1000\n",
            "scared     1000\n",
            "Name: emotion, dtype: int64\n"
          ],
          "name": "stdout"
        },
        {
          "output_type": "display_data",
          "data": {
            "image/png": "[encoded data removed]",
            "text/plain": [
              "<Figure size 432x288 with 1 Axes>"
            ]
          },
          "metadata": {
            "tags": [],
            "needs_background": "light"
          }
        }
      ]
    },
    {
      "cell_type": "code",
      "metadata": {
        "id": "lWD4uBlKhdWk"
      },
      "source": [
        "from __future__ import print_function\n",
        "from keras.preprocessing.text import text_to_word_sequence\n",
        "from keras.preprocessing.text import Tokenizer\n",
        "\n",
        "from keras.models import load_model\n",
        "from keras.preprocessing import sequence\n",
        "from keras.models import Sequential\n",
        "from keras.layers import Dense, Dropout, Activation\n",
        "from keras.layers import Embedding\n",
        "from keras.layers import Conv1D, GlobalMaxPooling1D, MaxPooling1D, LSTM, GRU, Bidirectional\n",
        "from keras.callbacks import EarlyStopping\n",
        "from keras import initializers\n",
        "import seaborn as sns\n",
        "import matplotlib.pyplot as plt\n",
        "import numpy as np"
      ],
      "execution_count": null,
      "outputs": []
    },
    {
      "cell_type": "code",
      "metadata": {
        "id": "c4R33D_thgll"
      },
      "source": [
        "cols_sent = ['emotion','after stopword']\n",
        "d_sent = df_test_over_sent[cols_sent]\n",
        "d_sent = d_sent[d_sent['after stopword'].notnull()]"
      ],
      "execution_count": null,
      "outputs": []
    },
    {
      "cell_type": "code",
      "metadata": {
        "colab": {
          "base_uri": "https://localhost:8080/"
        },
        "id": "IbVq0MDWhoRd",
        "outputId": "add879c8-021e-4c53-d842-72066d4b922e"
      },
      "source": [
        "d_sent.reset_index(drop=True,inplace=True)\n",
        "x_sent = d_sent.iloc[:, 1].values\n",
        "y_sent = d_sent.iloc[:, 0].values\n",
        "print(np.unique(y_sent, return_counts=True))"
      ],
      "execution_count": null,
      "outputs": [
        {
          "output_type": "stream",
          "text": [
            "(array(['angry', 'excited', 'happy', 'other', 'sad', 'scared', 'tender',\n",
            "       'wonder'], dtype=object), array([1500, 1000, 1500, 3000, 1000, 1000, 2000, 1500]))\n"
          ],
          "name": "stdout"
        }
      ]
    },
    {
      "cell_type": "code",
      "metadata": {
        "id": "O0K6Rl9iZLG9"
      },
      "source": [
        "from tensorflow.keras import utils as np_utils"
      ],
      "execution_count": null,
      "outputs": []
    },
    {
      "cell_type": "code",
      "metadata": {
        "id": "RN1LlM5N57Hu"
      },
      "source": [
        "import pickle\n",
        "with open('tokenizer.pickle', 'rb') as handle:\n",
        "    tokenizer = pickle.load(handle)"
      ],
      "execution_count": null,
      "outputs": []
    },
    {
      "cell_type": "code",
      "metadata": {
        "colab": {
          "base_uri": "https://localhost:8080/"
        },
        "id": "g_1tIcD_SgrB",
        "outputId": "5e31e526-2f69-4fa5-8b50-0e633eb0c7a5"
      },
      "source": [
        "text_sent = d_sent['after stopword'].values\n",
        "maxlen_sent = max([len(i.split()) for i in text_sent])\n",
        "\n",
        "x_sent = tokenizer.texts_to_sequences(x_sent)\n",
        "x_sent = sequence.pad_sequences(x_sent, maxlen_sent, padding=\"post\")\n",
        "vocab_sent = 48805\n",
        "print(x_sent)"
      ],
      "execution_count": null,
      "outputs": [
        {
          "output_type": "stream",
          "text": [
            "[[   1  555    7 ...    0    0    0]\n",
            " [5785   96   32 ...    0    0    0]\n",
            " [ 229  318 2596 ...    0    0    0]\n",
            " ...\n",
            " [ 471    1  736 ...    0    0    0]\n",
            " [4520 1001  908 ...    0    0    0]\n",
            " [  16 1533   67 ...    0    0    0]]\n"
          ],
          "name": "stdout"
        }
      ]
    },
    {
      "cell_type": "code",
      "metadata": {
        "colab": {
          "base_uri": "https://localhost:8080/"
        },
        "id": "05j6byb7h1JL",
        "outputId": "991a5cc1-98d3-4cfe-c183-fedb2fae3be8"
      },
      "source": [
        "print(\"vocab sentiment : \" + str(vocab_sent))\n",
        "print(\"maxlen sentiment : \" + str(maxlen_sent))"
      ],
      "execution_count": null,
      "outputs": [
        {
          "output_type": "stream",
          "text": [
            "vocab sentiment : 48805\n",
            "maxlen sentiment : 23\n"
          ],
          "name": "stdout"
        }
      ]
    },
    {
      "cell_type": "code",
      "metadata": {
        "id": "2WtigFb64ZgN"
      },
      "source": [
        "from tensorflow.keras import utils as np_utils"
      ],
      "execution_count": null,
      "outputs": []
    },
    {
      "cell_type": "code",
      "metadata": {
        "colab": {
          "base_uri": "https://localhost:8080/"
        },
        "id": "rObIE1BL4iG1",
        "outputId": "a5fe3dd4-f366-486f-b9df-289e538fe18b"
      },
      "source": [
        "from sklearn.preprocessing import LabelEncoder\n",
        "labelencoder_Y_sent = LabelEncoder()\n",
        "y_sent = labelencoder_Y_sent.fit_transform(y_sent)\n",
        "print(y_sent)\n",
        "print(np.unique(y_sent, return_counts=True))"
      ],
      "execution_count": null,
      "outputs": [
        {
          "output_type": "stream",
          "text": [
            "[3 3 3 ... 7 7 7]\n",
            "(array([0, 1, 2, 3, 4, 5, 6, 7]), array([1500, 1000, 1500, 3000, 1000, 1000, 2000, 1500]))\n"
          ],
          "name": "stdout"
        }
      ]
    },
    {
      "cell_type": "code",
      "metadata": {
        "colab": {
          "base_uri": "https://localhost:8080/"
        },
        "id": "lyQ60XUu4nCa",
        "outputId": "9fd68c26-ddf5-42d0-a124-31d875f90b66"
      },
      "source": [
        "print(y_sent)"
      ],
      "execution_count": null,
      "outputs": [
        {
          "output_type": "stream",
          "text": [
            "[3 3 3 ... 7 7 7]\n"
          ],
          "name": "stdout"
        }
      ]
    },
    {
      "cell_type": "code",
      "metadata": {
        "colab": {
          "base_uri": "https://localhost:8080/"
        },
        "id": "EqPM7jhOSgrD",
        "outputId": "b11136b5-ebca-434b-e0c0-d5102671fe3d"
      },
      "source": [
        "from tensorflow.keras import utils as np_utils\n",
        "y_sent = np_utils.to_categorical(y_sent, num_classes= 8)\n",
        "# One hot encoded\n",
        "print(y_sent)\n"
      ],
      "execution_count": null,
      "outputs": [
        {
          "output_type": "stream",
          "text": [
            "[[0. 0. 0. ... 0. 0. 0.]\n",
            " [0. 0. 0. ... 0. 0. 0.]\n",
            " [0. 0. 0. ... 0. 0. 0.]\n",
            " ...\n",
            " [0. 0. 0. ... 0. 0. 1.]\n",
            " [0. 0. 0. ... 0. 0. 1.]\n",
            " [0. 0. 0. ... 0. 0. 1.]]\n"
          ],
          "name": "stdout"
        }
      ]
    },
    {
      "cell_type": "code",
      "metadata": {
        "colab": {
          "base_uri": "https://localhost:8080/"
        },
        "id": "Y96bUkrNh-vM",
        "outputId": "92f08128-4656-468d-b697-8b6730dd6068"
      },
      "source": [
        "from sklearn.model_selection import train_test_split\n",
        "x_train_sent, x_test_sent, y_train_sent, y_test_sent, indices_train_sent, indices_test_sent = train_test_split(x_sent, y_sent, d_sent.index, test_size=0.2, random_state=42)\n",
        "\n",
        "print(x_train_sent.shape)\n",
        "print(y_train_sent.shape)\n",
        "print(x_test_sent.shape)\n",
        "print(y_test_sent.shape)\n",
        "print(y_sent)"
      ],
      "execution_count": null,
      "outputs": [
        {
          "output_type": "stream",
          "text": [
            "(10000, 23)\n",
            "(10000, 8)\n",
            "(2500, 23)\n",
            "(2500, 8)\n",
            "[[0. 0. 0. ... 0. 0. 0.]\n",
            " [0. 0. 0. ... 0. 0. 0.]\n",
            " [0. 0. 0. ... 0. 0. 0.]\n",
            " ...\n",
            " [0. 0. 0. ... 0. 0. 1.]\n",
            " [0. 0. 0. ... 0. 0. 1.]\n",
            " [0. 0. 0. ... 0. 0. 1.]]\n"
          ],
          "name": "stdout"
        }
      ]
    },
    {
      "cell_type": "code",
      "metadata": {
        "colab": {
          "base_uri": "https://localhost:8080/"
        },
        "id": "KBmDQ4jmiDp8",
        "outputId": "a393d481-55b8-42f6-84b9-17749ccb3713"
      },
      "source": [
        "x_train_sent = sequence.pad_sequences(x_train_sent, maxlen=maxlen_sent, padding=\"post\")\n",
        "x_test_sent = sequence.pad_sequences(x_test_sent, maxlen=maxlen_sent, padding=\"post\")\n",
        "print('x_train_sent shape:', x_train_sent.shape)\n",
        "print('x_test_sent shape:', x_test_sent.shape)"
      ],
      "execution_count": null,
      "outputs": [
        {
          "output_type": "stream",
          "text": [
            "x_train_sent shape: (10000, 23)\n",
            "x_test_sent shape: (2500, 23)\n"
          ],
          "name": "stdout"
        }
      ]
    },
    {
      "cell_type": "code",
      "metadata": {
        "id": "c83f97nbiO4V"
      },
      "source": [
        "text = data['after stopword'].values\n",
        "tokenizer = Tokenizer()\n",
        "tokenizer.fit_on_texts(text)"
      ],
      "execution_count": null,
      "outputs": []
    },
    {
      "cell_type": "code",
      "metadata": {
        "id": "TY8XEjxBCmY9"
      },
      "source": [
        "vocab = 48805"
      ],
      "execution_count": null,
      "outputs": []
    },
    {
      "cell_type": "code",
      "metadata": {
        "colab": {
          "base_uri": "https://localhost:8080/"
        },
        "id": "XSK5OkSmiwQC",
        "outputId": "f9e7d5d2-66a3-469f-8cfd-05168e282d18"
      },
      "source": [
        "vocab"
      ],
      "execution_count": null,
      "outputs": [
        {
          "output_type": "execute_result",
          "data": {
            "text/plain": [
              "48805"
            ]
          },
          "metadata": {
            "tags": []
          },
          "execution_count": 24
        }
      ]
    },
    {
      "cell_type": "code",
      "metadata": {
        "id": "Vv94aYRpiV3L"
      },
      "source": [
        "initializer = initializers.RandomUniform(minval=-0.05, maxval=0.05, seed=2) "
      ],
      "execution_count": null,
      "outputs": []
    },
    {
      "cell_type": "code",
      "metadata": {
        "id": "iv9CQSTZ7f87"
      },
      "source": [
        "from keras.engine.topology import Layer\n",
        "from keras import regularizers, constraints\n",
        "import keras.backend as K\n",
        "\n",
        "\n",
        "def dot_product(x, kernel):\n",
        "  \"\"\"\n",
        "  Wrapper for dot product operation, in order to be compatible with both\n",
        "  Theano and Tensorflow\n",
        "  Args:\n",
        "      x (): input\n",
        "      kernel (): weights\n",
        "  Returns:\n",
        "  \"\"\"\n",
        "  if K.backend() == 'tensorflow':\n",
        "      return K.squeeze(K.dot(x, K.expand_dims(kernel)), axis=-1)\n",
        "  else:\n",
        "      return K.dot(x, kernel)\n",
        "\n",
        "class AttentionWithContext(Layer):\n",
        "  def __init__(self,\n",
        "                 W_regularizer=None, u_regularizer=None, b_regularizer=None,\n",
        "                 W_constraint=None, u_constraint=None, b_constraint=None,\n",
        "                 bias=True, **kwargs):\n",
        "\n",
        "        self.supports_masking = True\n",
        "        self.init = initializers.get('glorot_uniform')\n",
        "\n",
        "        self.W_regularizer = regularizers.get(W_regularizer)\n",
        "        self.u_regularizer = regularizers.get(u_regularizer)\n",
        "        self.b_regularizer = regularizers.get(b_regularizer)\n",
        "\n",
        "        self.W_constraint = constraints.get(W_constraint)\n",
        "        self.u_constraint = constraints.get(u_constraint)\n",
        "        self.b_constraint = constraints.get(b_constraint)\n",
        "\n",
        "        self.bias = bias\n",
        "        super(AttentionWithContext, self).__init__(**kwargs)\n",
        "\n",
        "  def get_config(self):\n",
        "    config = super().get_config().copy()\n",
        "    config.update({\n",
        "            'W_regularizer': self.W_regularizer,\n",
        "            'u_regularizer': self.u_regularizer,\n",
        "            'b_regularizer': self.b_regularizer,\n",
        "            'W_constraint': self.W_constraint,\n",
        "            'u_constraint': self.u_constraint,\n",
        "            'b_constraint': self.b_constraint,\n",
        "            'bias': self.bias,\n",
        "    })\n",
        "    return config\n",
        "    \n",
        "  def build(self, input_shape):\n",
        "      assert len(input_shape) == 3\n",
        "\n",
        "      self.W = self.add_weight(shape=(input_shape[-1], input_shape[-1],),\n",
        "                                initializer=self.init,\n",
        "                                name='{}_W'.format(self.name),\n",
        "                                regularizer=self.W_regularizer,\n",
        "                                constraint=self.W_constraint)\n",
        "      if self.bias:\n",
        "          self.b = self.add_weight(shape=(input_shape[-1],),\n",
        "                                    initializer='zero',\n",
        "                                    name='{}_b'.format(self.name),\n",
        "                                    regularizer=self.b_regularizer,\n",
        "                                    constraint=self.b_constraint)\n",
        "\n",
        "      self.u = self.add_weight(shape=(input_shape[-1],),\n",
        "                                initializer=self.init,\n",
        "                                name='{}_u'.format(self.name),\n",
        "                                regularizer=self.u_regularizer,\n",
        "                                constraint=self.u_constraint)\n",
        "\n",
        "      super(AttentionWithContext, self).build(input_shape)\n",
        "\n",
        "  def compute_mask(self, input, input_mask=None):\n",
        "      # do not pass the mask to the next layers\n",
        "      return None\n",
        "\n",
        "  def call(self, x, mask=None):\n",
        "      uit = dot_product(x, self.W)\n",
        "\n",
        "      if self.bias:\n",
        "          uit += self.b\n",
        "\n",
        "      uit = K.tanh(uit)\n",
        "      ait = dot_product(uit, self.u)\n",
        "\n",
        "      a = K.exp(ait)\n",
        "\n",
        "      # apply mask after the exp. will be re-normalized next\n",
        "      if mask is not None:\n",
        "          # Cast the mask to floatX to avoid float64 upcasting in theano\n",
        "          a *= K.cast(mask, K.floatx())\n",
        "\n",
        "      # in some cases especially in the early stages of training the sum may be almost zero\n",
        "      # and this results in NaN's. A workaround is to add a very small positive number ε to the sum.\n",
        "      # a /= K.cast(K.sum(a, axis=1, keepdims=True), K.floatx())\n",
        "      a /= K.cast(K.sum(a, axis=1, keepdims=True) + K.epsilon(), K.floatx())\n",
        "\n",
        "      a = K.expand_dims(a)\n",
        "      weighted_input = x * a\n",
        "      return K.sum(weighted_input, axis=1)\n",
        "\n",
        "  def compute_output_shape(self, input_shape):\n",
        "      return input_shape[0], input_shape[-1]"
      ],
      "execution_count": null,
      "outputs": []
    },
    {
      "cell_type": "code",
      "metadata": {
        "id": "7ijxEYVuSgrA"
      },
      "source": [
        "def get_model(X, Y):\n",
        "    model = Sequential() \n",
        "    model.add(Embedding(input_dim = vocab, output_dim = 128, input_length = 23, embeddings_initializer = initializer))\n",
        "    model.add(GRU(128, recurrent_initializer = initializer, \n",
        "                  kernel_initializer = initializer, recurrent_dropout=0.1,\n",
        "                  dropout=0.5, return_sequences = True, activation = \"tanh\"))\n",
        "    model.add(AttentionWithContext())\n",
        "    model.add(Dense(8, activation='softmax', kernel_initializer = initializer)) \n",
        "    adam = Adam(lr=0.0005)\n",
        "    nadam = Nadam(lr=0.00005)\n",
        "    rms = RMSprop(learning_rate=0.0005)\n",
        "    model.compile(loss='categorical_crossentropy', optimizer= 'adam', metrics=['accuracy'])\n",
        "    print(model.summary())\n",
        "  \n",
        "    return model\n"
      ],
      "execution_count": null,
      "outputs": []
    },
    {
      "cell_type": "code",
      "metadata": {
        "id": "Or85bwhBugam"
      },
      "source": [
        "from keras.optimizers import Adam, Nadam, RMSprop"
      ],
      "execution_count": null,
      "outputs": []
    },
    {
      "cell_type": "code",
      "metadata": {
        "colab": {
          "base_uri": "https://localhost:8080/"
        },
        "id": "xymruKoZSgrE",
        "outputId": "0faa2960-0f67-4ff1-c33f-ccae1e8e4733"
      },
      "source": [
        "model = get_model(x_train_sent, y_train_sent)"
      ],
      "execution_count": null,
      "outputs": [
        {
          "output_type": "stream",
          "text": [
            "Model: \"sequential_4\"\n",
            "_________________________________________________________________\n",
            "Layer (type)                 Output Shape              Param #   \n",
            "=================================================================\n",
            "embedding_4 (Embedding)      (None, 23, 128)           6247040   \n",
            "_________________________________________________________________\n",
            "gru_4 (GRU)                  (None, 23, 128)           99072     \n",
            "_________________________________________________________________\n",
            "attention_with_context_4 (At (None, 128)               16640     \n",
            "_________________________________________________________________\n",
            "dense_3 (Dense)              (None, 8)                 1032      \n",
            "=================================================================\n",
            "Total params: 6,363,784\n",
            "Trainable params: 6,363,784\n",
            "Non-trainable params: 0\n",
            "_________________________________________________________________\n",
            "None\n"
          ],
          "name": "stdout"
        },
        {
          "output_type": "stream",
          "text": [
            "/usr/local/lib/python3.7/dist-packages/tensorflow/python/keras/optimizer_v2/optimizer_v2.py:375: UserWarning: The `lr` argument is deprecated, use `learning_rate` instead.\n",
            "  \"The `lr` argument is deprecated, use `learning_rate` instead.\")\n"
          ],
          "name": "stderr"
        }
      ]
    },
    {
      "cell_type": "code",
      "metadata": {
        "colab": {
          "base_uri": "https://localhost:8080/",
          "height": 533
        },
        "id": "QXD_s4MfBTs2",
        "outputId": "7ed7620b-45f2-454f-a389-3830f052e9c7"
      },
      "source": [
        "import keras as keras\n",
        "from keras.utils.vis_utils import plot_model\n",
        "plot_model(model, to_file='model.png', show_shapes=True, show_layer_names=True)"
      ],
      "execution_count": null,
      "outputs": [
        {
          "output_type": "execute_result",
          "data": {
            "image/png": "[encoded data removed]",
            "text/plain": [
              "<IPython.core.display.Image object>"
            ]
          },
          "metadata": {
            "tags": []
          },
          "execution_count": 32
        }
      ]
    },
    {
      "cell_type": "code",
      "metadata": {
        "colab": {
          "base_uri": "https://localhost:8080/"
        },
        "id": "QXimbEktSgrE",
        "outputId": "7527b31e-e3a1-46d6-f3f2-fb8a5fc4a687"
      },
      "source": [
        "history = model.fit(x_train_sent, y_train_sent, batch_size=64, epochs=10, verbose=1, validation_split=0.2,  callbacks=[EarlyStopping(monitor='val_loss', patience=5, min_delta=0.0001)])"
      ],
      "execution_count": null,
      "outputs": [
        {
          "output_type": "stream",
          "text": [
            "Epoch 1/10\n",
            "125/125 [==============================] - 15s 95ms/step - loss: 2.0031 - accuracy: 0.2422 - val_loss: 1.6073 - val_accuracy: 0.3780\n",
            "Epoch 2/10\n",
            "125/125 [==============================] - 11s 87ms/step - loss: 1.3334 - accuracy: 0.4986 - val_loss: 1.0058 - val_accuracy: 0.6680\n",
            "Epoch 3/10\n",
            "125/125 [==============================] - 11s 88ms/step - loss: 0.7556 - accuracy: 0.7613 - val_loss: 0.6940 - val_accuracy: 0.7970\n",
            "Epoch 4/10\n",
            "125/125 [==============================] - 11s 88ms/step - loss: 0.4630 - accuracy: 0.8665 - val_loss: 0.5435 - val_accuracy: 0.8560\n",
            "Epoch 5/10\n",
            "125/125 [==============================] - 11s 88ms/step - loss: 0.3008 - accuracy: 0.9185 - val_loss: 0.4790 - val_accuracy: 0.8710\n",
            "Epoch 6/10\n",
            "125/125 [==============================] - 11s 88ms/step - loss: 0.2167 - accuracy: 0.9420 - val_loss: 0.4244 - val_accuracy: 0.8920\n",
            "Epoch 7/10\n",
            "125/125 [==============================] - 11s 88ms/step - loss: 0.1922 - accuracy: 0.9461 - val_loss: 0.4096 - val_accuracy: 0.8935\n",
            "Epoch 8/10\n",
            "125/125 [==============================] - 11s 89ms/step - loss: 0.1469 - accuracy: 0.9612 - val_loss: 0.4207 - val_accuracy: 0.8930\n",
            "Epoch 9/10\n",
            "125/125 [==============================] - 11s 88ms/step - loss: 0.1397 - accuracy: 0.9616 - val_loss: 0.3862 - val_accuracy: 0.8970\n",
            "Epoch 10/10\n",
            "125/125 [==============================] - 11s 87ms/step - loss: 0.1063 - accuracy: 0.9684 - val_loss: 0.3463 - val_accuracy: 0.9120\n"
          ],
          "name": "stdout"
        }
      ]
    },
    {
      "cell_type": "code",
      "metadata": {
        "id": "dXIrZmxBSgrF",
        "colab": {
          "base_uri": "https://localhost:8080/"
        },
        "outputId": "2912503a-f8b8-4bbb-9d77-262c67fc28dd"
      },
      "source": [
        "_, acc = model.evaluate(x_test_sent, y_test_sent, verbose=0)\n",
        "print(\"Accuracy: %.2f\" % (acc*100), \"%\")"
      ],
      "execution_count": null,
      "outputs": [
        {
          "output_type": "stream",
          "text": [
            "Accuracy: 90.80 %\n"
          ],
          "name": "stdout"
        }
      ]
    },
    {
      "cell_type": "code",
      "metadata": {
        "id": "OGy9BTrGwUXf",
        "colab": {
          "base_uri": "https://localhost:8080/"
        },
        "outputId": "50c702c8-9493-4035-aa44-b44ab3b92149"
      },
      "source": [
        "new_review_category = model.predict_classes(x_test_sent)"
      ],
      "execution_count": null,
      "outputs": [
        {
          "output_type": "stream",
          "text": [
            "/usr/local/lib/python3.7/dist-packages/keras/engine/sequential.py:450: UserWarning: `model.predict_classes()` is deprecated and will be removed after 2021-01-01. Please use instead:* `np.argmax(model.predict(x), axis=-1)`,   if your model does multi-class classification   (e.g. if it uses a `softmax` last-layer activation).* `(model.predict(x) > 0.5).astype(\"int32\")`,   if your model does binary classification   (e.g. if it uses a `sigmoid` last-layer activation).\n",
            "  warnings.warn('`model.predict_classes()` is deprecated and '\n"
          ],
          "name": "stderr"
        }
      ]
    },
    {
      "cell_type": "code",
      "metadata": {
        "id": "Uh3npTdVwVoS"
      },
      "source": [
        "decode_sent = np.argmax(y_test_sent, axis=1)\n",
        "lab_sent = ['angry', 'excited', 'happy', 'other', 'sad', 'scared', 'tender',\n",
        "       'wonder']\n"
      ],
      "execution_count": null,
      "outputs": []
    },
    {
      "cell_type": "code",
      "metadata": {
        "colab": {
          "base_uri": "https://localhost:8080/",
          "height": 497
        },
        "id": "VA986WtFwpb0",
        "outputId": "49d077c5-08c2-4437-99a5-d2bba5f730d1"
      },
      "source": [
        "from sklearn.metrics import confusion_matrix\n",
        "def conf_matrix(Y_act, Y_pred, lab):\n",
        "    confusion_mtx = confusion_matrix(Y_act, Y_pred)\n",
        "    plt.figure(figsize=(10,8))\n",
        "    sns.heatmap(confusion_mtx, annot=True, fmt=\"d\", xticklabels=lab, yticklabels=lab)\n",
        "    plt.ylabel(\"Actual\")\n",
        "    plt.xlabel(\"Predicted\")\n",
        "    plt.show()\n",
        "\n",
        "conf_matrix(new_review_category, decode_sent, lab_sent)"
      ],
      "execution_count": null,
      "outputs": [
        {
          "output_type": "display_data",
          "data": {
            "image/png": "[encoded data removed]",
            "text/plain": [
              "<Figure size 720x576 with 2 Axes>"
            ]
          },
          "metadata": {
            "tags": [],
            "needs_background": "light"
          }
        }
      ]
    },
    {
      "cell_type": "code",
      "metadata": {
        "colab": {
          "base_uri": "https://localhost:8080/"
        },
        "id": "2WMkPYn_wr49",
        "outputId": "e32e867b-1c27-45c1-fbd6-89c0b3c9447a"
      },
      "source": [
        "from sklearn.metrics import accuracy_score\n",
        "accuracy_score(new_review_category, decode_sent)"
      ],
      "execution_count": null,
      "outputs": [
        {
          "output_type": "execute_result",
          "data": {
            "text/plain": [
              "0.908"
            ]
          },
          "metadata": {
            "tags": []
          },
          "execution_count": 49
        }
      ]
    },
    {
      "cell_type": "code",
      "metadata": {
        "colab": {
          "base_uri": "https://localhost:8080/"
        },
        "id": "d96W_GCOwu8C",
        "outputId": "5224f941-b399-467c-fef7-2c67a9144840"
      },
      "source": [
        "from sklearn.metrics import precision_score, \\\n",
        "    recall_score, confusion_matrix, classification_report, \\\n",
        "    accuracy_score, f1_score\n",
        "\n",
        "print('Accuracy:', accuracy_score(new_review_category, decode_sent))\n",
        "print('F1 score:', f1_score(new_review_category, decode_sent, average='macro'))\n",
        "print('Recall:', recall_score(new_review_category, decode_sent, average='macro'))\n",
        "print('Precision:', precision_score(new_review_category, decode_sent, average='macro'))"
      ],
      "execution_count": null,
      "outputs": [
        {
          "output_type": "stream",
          "text": [
            "Accuracy: 0.908\n",
            "F1 score: 0.918989849592251\n",
            "Recall: 0.9103508318182466\n",
            "Precision: 0.9298268999590584\n"
          ],
          "name": "stdout"
        }
      ]
    },
    {
      "cell_type": "code",
      "metadata": {
        "colab": {
          "base_uri": "https://localhost:8080/"
        },
        "id": "eWcSzuF9wyE6",
        "outputId": "40e77d0d-3b58-4a05-ab05-7f3b0c9b2f96"
      },
      "source": [
        "accr_sent = model.evaluate(x_test_sent,y_test_sent)\n",
        "print('Test set\\n  Loss: {:0.3f}\\n  Accuracy: {:0.3f}'.format(accr_sent[0],accr_sent[1]))"
      ],
      "execution_count": null,
      "outputs": [
        {
          "output_type": "stream",
          "text": [
            "79/79 [==============================] - 1s 7ms/step - loss: 0.3511 - accuracy: 0.9080\n",
            "Test set\n",
            "  Loss: 0.351\n",
            "  Accuracy: 0.908\n"
          ],
          "name": "stdout"
        }
      ]
    },
    {
      "cell_type": "code",
      "metadata": {
        "colab": {
          "base_uri": "https://localhost:8080/",
          "height": 281
        },
        "id": "0fDSVmf6w4Vu",
        "outputId": "f76f8ce2-90d5-424e-dda9-76079b76afa0"
      },
      "source": [
        "plt.title('Loss')\n",
        "plt.plot(history.history['loss'], label='train')\n",
        "plt.plot(history.history['val_loss'], label='test')\n",
        "plt.legend()\n",
        "plt.show();"
      ],
      "execution_count": null,
      "outputs": [
        {
          "output_type": "display_data",
          "data": {
            "image/png": "[encoded data removed]",
            "text/plain": [
              "<Figure size 432x288 with 1 Axes>"
            ]
          },
          "metadata": {
            "tags": [],
            "needs_background": "light"
          }
        }
      ]
    },
    {
      "cell_type": "code",
      "metadata": {
        "colab": {
          "base_uri": "https://localhost:8080/",
          "height": 281
        },
        "id": "rw2c8W2Yw6fx",
        "outputId": "3e244d47-1ef2-464e-de4c-41a7c90fa409"
      },
      "source": [
        "plt.title('Accuracy')\n",
        "plt.plot(history.history['accuracy'], label='train')\n",
        "plt.plot(history.history['val_accuracy'], label='test')\n",
        "plt.legend()\n",
        "plt.show();"
      ],
      "execution_count": null,
      "outputs": [
        {
          "output_type": "display_data",
          "data": {
            "image/png": "[encoded data removed]",
            "text/plain": [
              "<Figure size 432x288 with 1 Axes>"
            ]
          },
          "metadata": {
            "tags": [],
            "needs_background": "light"
          }
        }
      ]
    },
    {
      "cell_type": "code",
      "metadata": {
        "id": "fYx89CrHxAQP"
      },
      "source": [
        "model.save('/content/attention gru 9080.h5')\n"
      ],
      "execution_count": null,
      "outputs": []
    },
    {
      "cell_type": "markdown",
      "metadata": {
        "id": "O7wK78AiSgrF"
      },
      "source": [
        "# Labeling Data"
      ]
    },
    {
      "cell_type": "code",
      "metadata": {
        "id": "jjkVYK9ySgrG"
      },
      "source": [
        "unlabeled = pd.read_excel(\"/content/unlabeled.xlsx\")"
      ],
      "execution_count": null,
      "outputs": []
    },
    {
      "cell_type": "code",
      "metadata": {
        "id": "aMKVzq9exVHo"
      },
      "source": [
        "unlabeled = pd.read_csv(\"/content/tanggal 15 after dup.csv\")"
      ],
      "execution_count": null,
      "outputs": []
    },
    {
      "cell_type": "code",
      "metadata": {
        "id": "bANA7SsHSgrG"
      },
      "source": [
        "un_text = unlabeled['after stopword'].values"
      ],
      "execution_count": null,
      "outputs": []
    },
    {
      "cell_type": "code",
      "metadata": {
        "colab": {
          "base_uri": "https://localhost:8080/"
        },
        "id": "AF_gokbz7ene",
        "outputId": "50d2e133-9481-4f51-e87c-dcabb957db07"
      },
      "source": [
        "un_text"
      ],
      "execution_count": null,
      "outputs": [
        {
          "output_type": "execute_result",
          "data": {
            "text/plain": [
              "array(['kalo lebaran tahun depan gue enggak mudik lama lama gue bisa kali diangkat jadi duta anti mudik nasional kemenhub',\n",
              "       'ampoooon kediri vibesssss lama banget enggak kediri',\n",
              "       'nekat mudik ingat anda bisa kena hukuman bulan penjara', ...,\n",
              "       'kenapa bisa om ku lolos rumah nenek kan aku mau menjemput thr tertunda gr enggak boleh mudik om lolos',\n",
              "       'padahal mudik pakai prokes bisa kan daripada sumpek padat kayak begini',\n",
              "       'mau posting foto keluarga pas lebaran sebagian orang keluarganya enggak lengkap atau enggak bisa'],\n",
              "      dtype=object)"
            ]
          },
          "metadata": {
            "tags": []
          },
          "execution_count": 172
        }
      ]
    },
    {
      "cell_type": "code",
      "metadata": {
        "id": "4gikcaGU7uYm"
      },
      "source": [
        "cols = ['after stopword']\n",
        "d_aspect = unlabeled[cols]\n",
        "\n",
        "d_aspect=d_aspect[d_aspect['after stopword'].notnull()]\n",
        "d_aspect.reset_index(drop=True,inplace=True)\n",
        "x_aspect = d_aspect.values\n",
        "x_aspect = d_aspect.iloc[:, 0].values"
      ],
      "execution_count": null,
      "outputs": []
    },
    {
      "cell_type": "code",
      "metadata": {
        "colab": {
          "base_uri": "https://localhost:8080/",
          "height": 419
        },
        "id": "VrB3GM4f7xpb",
        "outputId": "660a4a78-82cf-40ff-9fd9-ee252c20747c"
      },
      "source": [
        "d_aspect"
      ],
      "execution_count": null,
      "outputs": [
        {
          "output_type": "execute_result",
          "data": {
            "text/html": [
              "<div>\n",
              "<style scoped>\n",
              "    .dataframe tbody tr th:only-of-type {\n",
              "        vertical-align: middle;\n",
              "    }\n",
              "\n",
              "    .dataframe tbody tr th {\n",
              "        vertical-align: top;\n",
              "    }\n",
              "\n",
              "    .dataframe thead th {\n",
              "        text-align: right;\n",
              "    }\n",
              "</style>\n",
              "<table border=\"1\" class=\"dataframe\">\n",
              "  <thead>\n",
              "    <tr style=\"text-align: right;\">\n",
              "      <th></th>\n",
              "      <th>after stopword</th>\n",
              "    </tr>\n",
              "  </thead>\n",
              "  <tbody>\n",
              "    <tr>\n",
              "      <th>0</th>\n",
              "      <td>kalo lebaran tahun depan gue enggak mudik lama...</td>\n",
              "    </tr>\n",
              "    <tr>\n",
              "      <th>1</th>\n",
              "      <td>ampoooon kediri vibesssss lama banget enggak k...</td>\n",
              "    </tr>\n",
              "    <tr>\n",
              "      <th>2</th>\n",
              "      <td>nekat mudik ingat anda bisa kena hukuman bulan...</td>\n",
              "    </tr>\n",
              "    <tr>\n",
              "      <th>3</th>\n",
              "      <td>pertahanan keamanan kita dipecundangi tka</td>\n",
              "    </tr>\n",
              "    <tr>\n",
              "      <th>4</th>\n",
              "      <td>kawan jm mendekati masa mudik hari raya idul f...</td>\n",
              "    </tr>\n",
              "    <tr>\n",
              "      <th>...</th>\n",
              "      <td>...</td>\n",
              "    </tr>\n",
              "    <tr>\n",
              "      <th>11274</th>\n",
              "      <td>tenang kena cvd mudik kok</td>\n",
              "    </tr>\n",
              "    <tr>\n",
              "      <th>11275</th>\n",
              "      <td>wkwk padahal larangan mudik kata apa jokowi</td>\n",
              "    </tr>\n",
              "    <tr>\n",
              "      <th>11276</th>\n",
              "      <td>kenapa bisa om ku lolos rumah nenek kan aku ma...</td>\n",
              "    </tr>\n",
              "    <tr>\n",
              "      <th>11277</th>\n",
              "      <td>padahal mudik pakai prokes bisa kan daripada s...</td>\n",
              "    </tr>\n",
              "    <tr>\n",
              "      <th>11278</th>\n",
              "      <td>mau posting foto keluarga pas lebaran sebagian...</td>\n",
              "    </tr>\n",
              "  </tbody>\n",
              "</table>\n",
              "<p>11279 rows × 1 columns</p>\n",
              "</div>"
            ],
            "text/plain": [
              "                                          after stopword\n",
              "0      kalo lebaran tahun depan gue enggak mudik lama...\n",
              "1      ampoooon kediri vibesssss lama banget enggak k...\n",
              "2      nekat mudik ingat anda bisa kena hukuman bulan...\n",
              "3              pertahanan keamanan kita dipecundangi tka\n",
              "4      kawan jm mendekati masa mudik hari raya idul f...\n",
              "...                                                  ...\n",
              "11274                          tenang kena cvd mudik kok\n",
              "11275        wkwk padahal larangan mudik kata apa jokowi\n",
              "11276  kenapa bisa om ku lolos rumah nenek kan aku ma...\n",
              "11277  padahal mudik pakai prokes bisa kan daripada s...\n",
              "11278  mau posting foto keluarga pas lebaran sebagian...\n",
              "\n",
              "[11279 rows x 1 columns]"
            ]
          },
          "metadata": {
            "tags": []
          },
          "execution_count": 174
        }
      ]
    },
    {
      "cell_type": "code",
      "metadata": {
        "colab": {
          "base_uri": "https://localhost:8080/"
        },
        "id": "mS9tT4387zZW",
        "outputId": "ece40a25-6a29-4122-cc40-ef403de586ef"
      },
      "source": [
        "x_aspect"
      ],
      "execution_count": null,
      "outputs": [
        {
          "output_type": "execute_result",
          "data": {
            "text/plain": [
              "array(['kalo lebaran tahun depan gue enggak mudik lama lama gue bisa kali diangkat jadi duta anti mudik nasional kemenhub',\n",
              "       'ampoooon kediri vibesssss lama banget enggak kediri',\n",
              "       'nekat mudik ingat anda bisa kena hukuman bulan penjara', ...,\n",
              "       'kenapa bisa om ku lolos rumah nenek kan aku mau menjemput thr tertunda gr enggak boleh mudik om lolos',\n",
              "       'padahal mudik pakai prokes bisa kan daripada sumpek padat kayak begini',\n",
              "       'mau posting foto keluarga pas lebaran sebagian orang keluarganya enggak lengkap atau enggak bisa'],\n",
              "      dtype=object)"
            ]
          },
          "metadata": {
            "tags": []
          },
          "execution_count": 175
        }
      ]
    },
    {
      "cell_type": "code",
      "metadata": {
        "colab": {
          "base_uri": "https://localhost:8080/"
        },
        "id": "nTfYu3i672ot",
        "outputId": "6d52da2e-67fb-49fb-db6c-8fd0d79919d9"
      },
      "source": [
        "d_aspect.replace('', np.nan, inplace=True)\n",
        "d_aspect.dropna(inplace=True)\n",
        "\n",
        "d_aspect.reset_index(drop=True,inplace=True)\n",
        "\n",
        "x_aspect = d_aspect.values\n",
        "\n",
        "len(x_aspect)"
      ],
      "execution_count": null,
      "outputs": [
        {
          "output_type": "execute_result",
          "data": {
            "text/plain": [
              "11279"
            ]
          },
          "metadata": {
            "tags": []
          },
          "execution_count": 176
        }
      ]
    },
    {
      "cell_type": "code",
      "metadata": {
        "colab": {
          "base_uri": "https://localhost:8080/"
        },
        "id": "_L_sMvzZ75ro",
        "outputId": "bff9213a-e7a4-4b3f-8fcb-3086af08b6f1"
      },
      "source": [
        "x_aspect"
      ],
      "execution_count": null,
      "outputs": [
        {
          "output_type": "execute_result",
          "data": {
            "text/plain": [
              "array([['kalo lebaran tahun depan gue enggak mudik lama lama gue bisa kali diangkat jadi duta anti mudik nasional kemenhub'],\n",
              "       ['ampoooon kediri vibesssss lama banget enggak kediri'],\n",
              "       ['nekat mudik ingat anda bisa kena hukuman bulan penjara'],\n",
              "       ...,\n",
              "       ['kenapa bisa om ku lolos rumah nenek kan aku mau menjemput thr tertunda gr enggak boleh mudik om lolos'],\n",
              "       ['padahal mudik pakai prokes bisa kan daripada sumpek padat kayak begini'],\n",
              "       ['mau posting foto keluarga pas lebaran sebagian orang keluarganya enggak lengkap atau enggak bisa']],\n",
              "      dtype=object)"
            ]
          },
          "metadata": {
            "tags": []
          },
          "execution_count": 177
        }
      ]
    },
    {
      "cell_type": "code",
      "metadata": {
        "id": "-vSRaTEa8Tp7"
      },
      "source": [
        "tokenizer = Tokenizer()\n",
        "text_aspect = d_aspect['after stopword'].values\n",
        "maxlen_aspect = 23\n",
        "tokenizer.fit_on_texts(un_text)"
      ],
      "execution_count": null,
      "outputs": []
    },
    {
      "cell_type": "code",
      "metadata": {
        "id": "hicvUZZiB6M4"
      },
      "source": [
        "x_aspect = tokenizer.texts_to_sequences(un_text)\n",
        "x_aspect = sequence.pad_sequences(x_aspect, 23, padding=\"post\")\n",
        "vocab_aspect = 48805"
      ],
      "execution_count": null,
      "outputs": []
    },
    {
      "cell_type": "code",
      "metadata": {
        "id": "drwXT916SgrH"
      },
      "source": [
        "text1 = tokenizer.texts_to_sequences(un_text)\n",
        "text1 = pad_sequences(text1, maxlen=23, padding=\"post\")"
      ],
      "execution_count": null,
      "outputs": []
    },
    {
      "cell_type": "code",
      "metadata": {
        "colab": {
          "base_uri": "https://localhost:8080/"
        },
        "id": "OlSheCto7cKs",
        "outputId": "4297ebab-61fb-4b87-f8c8-b4d3a2b00099"
      },
      "source": [
        "text1"
      ],
      "execution_count": null,
      "outputs": [
        {
          "output_type": "execute_result",
          "data": {
            "text/plain": [
              "array([[  10,    7,   25, ...,    0,    0,    0],\n",
              "       [6037, 1693, 6038, ...,    0,    0,    0],\n",
              "       [ 121,    1,  273, ...,    0,    0,    0],\n",
              "       ...,\n",
              "       [  70,    8,  380, ...,    0,    0,    0],\n",
              "       [  89,    1,  118, ...,    0,    0,    0],\n",
              "       [  16, 2304,  280, ...,    0,    0,    0]], dtype=int32)"
            ]
          },
          "metadata": {
            "tags": []
          },
          "execution_count": 181
        }
      ]
    },
    {
      "cell_type": "code",
      "metadata": {
        "id": "6fX9GigdSgrH"
      },
      "source": [
        "pred_label = model.predict(text1)\n",
        "label1 = np.argmax(pred_label, axis = 1) "
      ],
      "execution_count": null,
      "outputs": []
    },
    {
      "cell_type": "code",
      "metadata": {
        "colab": {
          "base_uri": "https://localhost:8080/"
        },
        "id": "0RToUwHVDvNL",
        "outputId": "38a69f58-1f0b-4ae9-8616-e5a46d8acd00"
      },
      "source": [
        "pred_label"
      ],
      "execution_count": null,
      "outputs": [
        {
          "output_type": "execute_result",
          "data": {
            "text/plain": [
              "array([[2.9441594e-09, 3.6534533e-04, 9.9330634e-01, ..., 4.8616031e-09,\n",
              "        5.0509314e-04, 4.0161343e-05],\n",
              "       [4.1233172e-05, 7.8308440e-06, 1.3746121e-06, ..., 1.0687098e-06,\n",
              "        3.3614240e-05, 6.8998590e-05],\n",
              "       [3.0682405e-04, 2.3268133e-04, 4.2286544e-08, ..., 9.6934521e-01,\n",
              "        2.9677000e-02, 2.5850150e-07],\n",
              "       ...,\n",
              "       [3.7834018e-01, 1.2911159e-03, 8.0607936e-07, ..., 5.1239139e-04,\n",
              "        1.3615965e-04, 6.7341467e-03],\n",
              "       [3.1507798e-03, 1.6361749e-01, 3.1546750e-03, ..., 1.2359370e-01,\n",
              "        9.0586387e-02, 1.9925774e-05],\n",
              "       [5.9504394e-04, 3.9174033e-06, 1.4654121e-04, ..., 4.1129607e-07,\n",
              "        4.8345896e-06, 9.8323846e-01]], dtype=float32)"
            ]
          },
          "metadata": {
            "tags": []
          },
          "execution_count": 183
        }
      ]
    },
    {
      "cell_type": "code",
      "metadata": {
        "colab": {
          "base_uri": "https://localhost:8080/"
        },
        "id": "fPez8JExDsU-",
        "outputId": "af588d4e-5061-4f8d-cac2-50b94b9eb48a"
      },
      "source": [
        "label1"
      ],
      "execution_count": null,
      "outputs": [
        {
          "output_type": "execute_result",
          "data": {
            "text/plain": [
              "array([2, 3, 5, ..., 3, 4, 7])"
            ]
          },
          "metadata": {
            "tags": []
          },
          "execution_count": 184
        }
      ]
    },
    {
      "cell_type": "code",
      "metadata": {
        "id": "iSwjbgo-SgrH"
      },
      "source": [
        "workbook = xlsxwriter.Workbook('/content/tanggal 15 after dup labeled emotion 9164.xlsx')\n",
        "worksheet = workbook.add_worksheet()\n",
        "\n",
        "\n",
        "row = 0\n",
        "col = 0\n",
        "\n",
        "rowHeaders = ['tweet', 'label']\n",
        "worksheet.write_row(row, col,  tuple(rowHeaders))\n",
        "\n",
        "\n",
        "for i in un_text:\n",
        "    tweet = i\n",
        "    rowValues = [tweet]\n",
        "    row += 1\n",
        "    worksheet.write_row(row, col, tuple(rowValues))\n",
        "\n",
        "row = 0\n",
        "for l in label1:\n",
        "    label = l\n",
        "    rowValues = [label]\n",
        "    row += 1 \n",
        "    worksheet.write_row(row, col + 1, tuple(rowValues))\n",
        "\n",
        "workbook.close()"
      ],
      "execution_count": null,
      "outputs": []
    }
  ]
}